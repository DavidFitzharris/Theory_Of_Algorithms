{
 "cells": [
  {
   "cell_type": "markdown",
   "id": "5e1254a6",
   "metadata": {},
   "source": [
    "<h1 style=\"color: rgb(0, 120, 60)\">the Polynomial Time Complex</h1>\n",
    "\n",
    "<hr style=\"border-top: 1px solid rgb(0, 120, 60)\" />"
   ]
  },
  {
   "cell_type": "markdown",
   "id": "bb92006a",
   "metadata": {},
   "source": [
    "<h2 style=\"color: rgb(0, 120, 60)\">Introduction</h2>\n",
    "<hr style=\"border-top: 1px dashed rgb(0, 120, 60)\" />\n",
    "\n",
    "<p>A main objective for computer scientists is to develope effect and effiecient algorithms to complete complex problems. A means of classifying the effciency of these algorithms has been established, polynomial time complexity being among one of these classes</p>"
   ]
  },
  {
   "cell_type": "markdown",
   "id": "961ee13a",
   "metadata": {},
   "source": [
    "<h2 style=\"color: rgb(0, 120, 60)\">Polynomials in Python</h2>\n",
    "\n",
    "<hr style=\"border-top: 1px solid rgb(0, 120, 60)\" />"
   ]
  },
  {
   "cell_type": "code",
   "execution_count": 1,
   "id": "8537da67",
   "metadata": {},
   "outputs": [],
   "source": [
    "\n",
    "\n",
    "# Numerical arrays.\n",
    "import numpy as np\n",
    "\n",
    "# Plots.\n",
    "import matplotlib.pyplot as plt\n",
    "\n"
   ]
  }
 ],
 "metadata": {
  "kernelspec": {
   "display_name": "Python 3 (ipykernel)",
   "language": "python",
   "name": "python3"
  },
  "language_info": {
   "codemirror_mode": {
    "name": "ipython",
    "version": 3
   },
   "file_extension": ".py",
   "mimetype": "text/x-python",
   "name": "python",
   "nbconvert_exporter": "python",
   "pygments_lexer": "ipython3",
   "version": "3.9.7"
  }
 },
 "nbformat": 4,
 "nbformat_minor": 5
}
