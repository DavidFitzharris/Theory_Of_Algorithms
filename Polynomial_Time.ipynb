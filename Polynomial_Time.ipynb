{
 "cells": [
  {
   "cell_type": "markdown",
   "id": "5e1254a6",
   "metadata": {},
   "source": [
    "<h1 style=\"color: rgb(0, 120, 60)\">the Polynomial Time Complex</h1>\n",
    "\n",
    "<hr style=\"border-top: 1px solid rgb(0, 120, 60)\" />"
   ]
  },
  {
   "cell_type": "markdown",
   "id": "bb92006a",
   "metadata": {},
   "source": [
    "<h2 style=\"color: rgb(0, 120, 60)\">Introduction</h2>\n",
    "<hr style=\"border-top: 1px dashed rgb(0, 120, 60)\" />\n",
    "\n",
    "<p>A main objective for computer scientists is to develope effect and effiecient algorithms to complete complex problems. A means of classifying the effciency of these algorithms has been established, polynomial time complexity being among one of these classes</p>"
   ]
  },
  {
   "cell_type": "markdown",
   "id": "c0c98ae1",
   "metadata": {},
   "source": [
    "<h2 style=\"color: rgb(0, 120, 60)\">Polynomial Time</h2>\n",
    "<hr style=\"border-top: 1px dashed rgb(0, 120, 60)\" />\n",
    "\n",
    "<p>\n",
    "An algorithm's time complexity, or how long it takes to solve a problem as the size of the input increases, is referred to as polynomial time.\n",
    "If an algorithm's time complexity is O(nk), where n is the size of the input and k is a constant, the algorithm is said to be polynomial time.<br>\n",
    "\n",
    "For example, an algorithm that uses bubble sort to order a list of n numbers has a time complexity of O(n2), which is a polynomial time algorithm.\n",
    "This indicates that the time it takes to sort the list grows at an acceptable rate as the list's size increases and is not seen as being inefficient.\n",
    "</p>\n"
   ]
  },
  {
   "cell_type": "code",
   "execution_count": null,
   "id": "62e71677",
   "metadata": {},
   "outputs": [],
   "source": []
  },
  {
   "cell_type": "markdown",
   "id": "961ee13a",
   "metadata": {},
   "source": [
    "<h2 style=\"color: rgb(0, 120, 60)\">Polynomials in Python</h2>\n",
    "\n",
    "<hr style=\"border-top: 1px solid rgb(0, 120, 60)\" />"
   ]
  },
  {
   "cell_type": "code",
   "execution_count": 1,
   "id": "8537da67",
   "metadata": {},
   "outputs": [],
   "source": [
    "\n",
    "\n",
    "# Numerical arrays.\n",
    "import numpy as np\n",
    "\n",
    "# Plots.\n",
    "import matplotlib.pyplot as plt\n",
    "\n"
   ]
  }
 ],
 "metadata": {
  "kernelspec": {
   "display_name": "Python 3 (ipykernel)",
   "language": "python",
   "name": "python3"
  },
  "language_info": {
   "codemirror_mode": {
    "name": "ipython",
    "version": 3
   },
   "file_extension": ".py",
   "mimetype": "text/x-python",
   "name": "python",
   "nbconvert_exporter": "python",
   "pygments_lexer": "ipython3",
   "version": "3.9.13"
  }
 },
 "nbformat": 4,
 "nbformat_minor": 5
}
