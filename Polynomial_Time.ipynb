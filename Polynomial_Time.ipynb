{
 "cells": [
  {
   "cell_type": "markdown",
   "id": "5e1254a6",
   "metadata": {},
   "source": [
    "<h1 style=\"color: rgb(0, 120, 60)\">the Polynomial Time Complex</h1>\n",
    "\n",
    "<hr style=\"border-top: 1px solid rgb(0, 120, 60)\" />"
   ]
  },
  {
   "cell_type": "markdown",
   "id": "bb92006a",
   "metadata": {},
   "source": [
    "<h2 style=\"color: rgb(0, 120, 60)\">Introduction</h2>\n",
    "<hr style=\"border-top: 1px dashed rgb(0, 120, 60)\" />\n",
    "\n",
    "<p>A main objective for computer scientists is to develope effect and effiecient algorithms to complete complex problems. A means of classifying the effciency of these algorithms has been established, polynomial time complexity being among one of these classes</p>"
   ]
  },
  {
   "cell_type": "markdown",
   "id": "93fd00b4",
   "metadata": {},
   "source": [
    "<h2 style=\"color: rgb(0, 120, 60)\">Time Complexity </h2>\n",
    "<hr style=\"border-top: 1px dashed rgb(0, 120, 60)\" />\n",
    "\n",
    "<p> The term \"time complexity\" describes how long it takes an algorithm to execute as a function of the volume of the input data.\n",
    "In other words, it assesses how an algorithm's execution time increases with input size.<br>\n",
    "\n",
    "If an algorithm, for instance, has a time complexity of O(n), where n is the size of the input data, this indicates that the method's execution time scales linearly with the size of the input.\n",
    "This implies that the algorithm's execution time will likewise double if the size of the input data doubles.\n",
    "</p>"
   ]
  },
  {
   "cell_type": "markdown",
   "id": "c226203a",
   "metadata": {},
   "source": [
    "<h2 style=\"color: rgb(0, 120, 60)\">Polynomial Time</h2>\n",
    "<hr style=\"border-top: 1px dashed rgb(0, 120, 60)\" />\n",
    "\n",
    "<p>\n",
    "An algorithm's time complexity, or how long it takes to solve a problem as the size of the input increases, is referred to as polynomial time. If an algorithm's time complexity is O(n^k), where n is the size of the input and k is a constant, the algorithm is said to be polynomial time.\n",
    "\n",
    "Bubble sort algorithm would be an example of this, which is used to order a list of n numbers and has a time complexity of O(n^2), where n is the number of elements in the array which is a polynomial time algorithm. This is because bubble sort uses nested loops to compare adjacent elements and swap them if they are in the wrong order. In the worst case, the outer loop runs n times, and the inner loop runs n-1 times on the first iteration, n-2 times on the second iteration, and so on. Therefore, the total number of comparisons is (n-1) + (n-2) + ... + 2 + 1 = n(n-1)/2, which is O(n^2) in big O notation.<br>\n",
    "\n",
    "Below is an example of the bubble sort algorithm:\n",
    "</p>\n"
   ]
  },
  {
   "cell_type": "code",
   "execution_count": 4,
   "id": "d533836a",
   "metadata": {},
   "outputs": [
    {
     "name": "stdout",
     "output_type": "stream",
     "text": [
      "Sorted array is: [15, 23, 51, 56, 78, 98]\n"
     ]
    }
   ],
   "source": [
    "def bubble_sort(arr):\n",
    "    #n = number of elements in the array\n",
    "    n = len(arr) \n",
    "    for i in range(n):\n",
    "        # \n",
    "        for j in range(0, n-i-1):\n",
    "            # Traverse the array from 0 to n-i-1\n",
    "            # Swap if the element found is greater than the next element\n",
    "            if arr[j] > arr[j+1]:\n",
    "                arr[j], arr[j+1] = arr[j+1], arr[j]\n",
    "\n",
    "# Using the algorithm:\n",
    "arr = [78, 23, 15, 56, 51, 98]\n",
    "bubble_sort(arr)\n",
    "print(\"Sorted array is:\", arr)"
   ]
  },
  {
   "cell_type": "markdown",
   "id": "961ee13a",
   "metadata": {},
   "source": [
    "<h2 style=\"color: rgb(0, 120, 60)\">Polynomials in Python</h2>\n",
    "\n",
    "<hr style=\"border-top: 1px solid rgb(0, 120, 60)\" />"
   ]
  },
  {
   "cell_type": "code",
   "execution_count": 1,
   "id": "8537da67",
   "metadata": {},
   "outputs": [],
   "source": [
    "\n",
    "\n",
    "# Numerical arrays.\n",
    "import numpy as np\n",
    "\n",
    "# Plots.\n",
    "import matplotlib.pyplot as plt\n",
    "\n"
   ]
  }
 ],
 "metadata": {
  "kernelspec": {
   "display_name": "Python 3 (ipykernel)",
   "language": "python",
   "name": "python3"
  },
  "language_info": {
   "codemirror_mode": {
    "name": "ipython",
    "version": 3
   },
   "file_extension": ".py",
   "mimetype": "text/x-python",
   "name": "python",
   "nbconvert_exporter": "python",
   "pygments_lexer": "ipython3",
   "version": "3.9.13"
  }
 },
 "nbformat": 4,
 "nbformat_minor": 5
}
